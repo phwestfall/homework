{
 "cells": [
  {
   "cell_type": "code",
   "execution_count": null,
   "metadata": {},
   "outputs": [],
   "source": [
    " # !pip install sqlalchemy\n",
    "# !pip install pymysql  # SQL Alchemy\n",
    "from sqlalchemy import create_engine\n",
    "\n",
    "# PyMySQL \n",
    "import pymysql\n",
    "pymysql.install_as_MySQLdb()\n",
    "\n",
    "import pandas as pd\n",
    "\n",
    "# Config variables\n",
    "from config import remote_db_endpoint, remote_db_port\n",
    "from config import remote_morbid_dbname, remote_morbid_dbuser, remote_morbid_dbpwd"
   ]
  },
  {
   "cell_type": "code",
   "execution_count": null,
   "metadata": {},
   "outputs": [],
   "source": [
    " "
   ]
  },
  {
   "cell_type": "code",
   "execution_count": null,
   "metadata": {},
   "outputs": [],
   "source": [
    "# AWS Database Connection\n",
    "engine = create_engine(f\"mysql://{remote_morbid_dbuser}:{remote_morbid_dbpwd}@{remote_db_endpoint}:{remote_db_port}/{remote_morbid_dbname}\")  # Create a local database engine connection\n",
    "\n",
    "# Create a remote database engine connection\n",
    "conn = engine.connect()  "
   ]
  },
  {
   "cell_type": "code",
   "execution_count": null,
   "metadata": {},
   "outputs": [],
   "source": [
    "# read in density death csv\n",
    "densitydeath = pd.read_csv('Output/densitydeath.csv')\n",
    "densitydeath = densitydeath.round({'Percent': 5})\n"
   ]
  },
  {
   "cell_type": "code",
   "execution_count": null,
   "metadata": {},
   "outputs": [],
   "source": [
    "densitydeath.head()"
   ]
  },
  {
   "cell_type": "code",
   "execution_count": null,
   "metadata": {},
   "outputs": [],
   "source": [
    "# take density death csv to sql/aws\n",
    "densitydeath.to_sql(name='density', if_exists='replace', con=conn, chunksize=500, index=False)\n",
    "\n",
    "remote_data = pd.read_sql(\"SELECT * FROM density\", conn)\n",
    "remote_data.head()"
   ]
  },
  {
   "cell_type": "code",
   "execution_count": null,
   "metadata": {},
   "outputs": [],
   "source": [
    "# take gender death csv to sql/aws\n",
    "genderdeath = pd.read_csv('Output/percentgenderdeath.csv')\n",
    "genderdeath.to_sql(name='gender', if_exists='replace', con=conn, index=False)"
   ]
  },
  {
   "cell_type": "code",
   "execution_count": null,
   "metadata": {},
   "outputs": [],
   "source": [
    "# take svi life csv to sql/aws\n",
    "sviLife = pd.read_csv('Output/sviLife.csv')\n",
    "sviLife.to_sql(name='sviLife', if_exists='replace', con=conn, index=False)"
   ]
  },
  {
   "cell_type": "code",
   "execution_count": null,
   "metadata": {},
   "outputs": [],
   "source": []
  },
  {
   "cell_type": "code",
   "execution_count": null,
   "metadata": {},
   "outputs": [],
   "source": []
  },
  {
   "cell_type": "code",
   "execution_count": null,
   "metadata": {},
   "outputs": [],
   "source": [
    "# back-up tables\n",
    "sviLife2 = pd.read_csv('Output/sviLife.csv')\n",
    "sviLife2.to_sql(name='sviLife2', if_exists='replace', con=conn, index=False)\n",
    "genderdeath = pd.read_csv('Output/percentgenderdeath.csv')\n",
    "genderdeath.to_sql(name='gender2', if_exists='replace', con=conn, index=False)\n",
    "densitydeath = pd.read_csv('Output/densitydeath.csv')\n",
    "densitydeath.to_sql(name='density2', if_exists='replace', con=conn, chunksize=500, index=False)"
   ]
  },
  {
   "cell_type": "code",
   "execution_count": null,
   "metadata": {},
   "outputs": [],
   "source": []
  }
 ],
 "metadata": {
  "kernelspec": {
   "display_name": "Python 3",
   "language": "python",
   "name": "python3"
  },
  "language_info": {
   "codemirror_mode": {
    "name": "ipython",
    "version": 3
   },
   "file_extension": ".py",
   "mimetype": "text/x-python",
   "name": "python",
   "nbconvert_exporter": "python",
   "pygments_lexer": "ipython3",
   "version": "3.7.0"
  }
 },
 "nbformat": 4,
 "nbformat_minor": 2
}
