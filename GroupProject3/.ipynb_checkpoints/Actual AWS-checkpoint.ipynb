{
 "cells": [
  {
   "cell_type": "code",
   "execution_count": 7,
   "metadata": {},
   "outputs": [],
   "source": [
    " # !pip install sqlalchemy\n",
    "# !pip install pymysql  # SQL Alchemy\n",
    "from sqlalchemy import create_engine\n",
    "\n",
    "# PyMySQL \n",
    "import pymysql\n",
    "pymysql.install_as_MySQLdb()\n",
    "\n",
    "import pandas as pd\n",
    "\n",
    "# Config variables\n",
    "from config import remote_db_endpoint, remote_db_port\n",
    "from config import remote_morbid_dbname, remote_morbid_dbuser, remote_morbid_dbpwd"
   ]
  },
  {
   "cell_type": "code",
   "execution_count": null,
   "metadata": {},
   "outputs": [],
   "source": [
    " "
   ]
  },
  {
   "cell_type": "code",
   "execution_count": 8,
   "metadata": {},
   "outputs": [],
   "source": [
    "# AWS Database Connection\n",
    "engine = create_engine(f\"mysql://{remote_morbid_dbuser}:{remote_morbid_dbpwd}@{remote_db_endpoint}:{remote_db_port}/{remote_morbid_dbname}\")  # Create a local database engine connection\n",
    "\n",
    "# Create a remote database engine connection\n",
    "conn = engine.connect()  "
   ]
  },
  {
   "cell_type": "code",
   "execution_count": 3,
   "metadata": {},
   "outputs": [],
   "source": [
    "# read in density death csv\n",
    "densitydeath = pd.read_csv('Output/densitydeath.csv')\n",
    "densitydeath = densitydeath.round({'Percent': 5})\n"
   ]
  },
  {
   "cell_type": "code",
   "execution_count": 4,
   "metadata": {},
   "outputs": [
    {
     "data": {
      "text/html": [
       "<div>\n",
       "<style scoped>\n",
       "    .dataframe tbody tr th:only-of-type {\n",
       "        vertical-align: middle;\n",
       "    }\n",
       "\n",
       "    .dataframe tbody tr th {\n",
       "        vertical-align: top;\n",
       "    }\n",
       "\n",
       "    .dataframe thead th {\n",
       "        text-align: right;\n",
       "    }\n",
       "</style>\n",
       "<table border=\"1\" class=\"dataframe\">\n",
       "  <thead>\n",
       "    <tr style=\"text-align: right;\">\n",
       "      <th></th>\n",
       "      <th>Unnamed: 0</th>\n",
       "      <th>Density</th>\n",
       "      <th>Cause of Death</th>\n",
       "      <th>Deaths</th>\n",
       "      <th>Population</th>\n",
       "      <th>Rate per 100k</th>\n",
       "      <th>Percent</th>\n",
       "    </tr>\n",
       "  </thead>\n",
       "  <tbody>\n",
       "    <tr>\n",
       "      <th>0</th>\n",
       "      <td>0</td>\n",
       "      <td>Large Central Metro</td>\n",
       "      <td>Cancer</td>\n",
       "      <td>156766</td>\n",
       "      <td>99544525</td>\n",
       "      <td>157.48330</td>\n",
       "      <td>21.97889</td>\n",
       "    </tr>\n",
       "    <tr>\n",
       "      <th>1</th>\n",
       "      <td>1</td>\n",
       "      <td>Large Central Metro</td>\n",
       "      <td>Heart Disease</td>\n",
       "      <td>169570</td>\n",
       "      <td>99544525</td>\n",
       "      <td>170.34588</td>\n",
       "      <td>23.77404</td>\n",
       "    </tr>\n",
       "    <tr>\n",
       "      <th>2</th>\n",
       "      <td>2</td>\n",
       "      <td>Large Central Metro</td>\n",
       "      <td>Stroke</td>\n",
       "      <td>37510</td>\n",
       "      <td>99544525</td>\n",
       "      <td>37.68163</td>\n",
       "      <td>5.25897</td>\n",
       "    </tr>\n",
       "    <tr>\n",
       "      <th>3</th>\n",
       "      <td>3</td>\n",
       "      <td>Large Central Metro</td>\n",
       "      <td>Respiratory</td>\n",
       "      <td>33738</td>\n",
       "      <td>99544525</td>\n",
       "      <td>33.89237</td>\n",
       "      <td>4.73013</td>\n",
       "    </tr>\n",
       "    <tr>\n",
       "      <th>4</th>\n",
       "      <td>4</td>\n",
       "      <td>Large Central Metro</td>\n",
       "      <td>Accidents</td>\n",
       "      <td>42204</td>\n",
       "      <td>99544525</td>\n",
       "      <td>42.39711</td>\n",
       "      <td>5.91708</td>\n",
       "    </tr>\n",
       "  </tbody>\n",
       "</table>\n",
       "</div>"
      ],
      "text/plain": [
       "   Unnamed: 0              Density Cause of Death  Deaths  Population  \\\n",
       "0           0  Large Central Metro         Cancer  156766    99544525   \n",
       "1           1  Large Central Metro  Heart Disease  169570    99544525   \n",
       "2           2  Large Central Metro         Stroke   37510    99544525   \n",
       "3           3  Large Central Metro    Respiratory   33738    99544525   \n",
       "4           4  Large Central Metro      Accidents   42204    99544525   \n",
       "\n",
       "   Rate per 100k   Percent  \n",
       "0      157.48330  21.97889  \n",
       "1      170.34588  23.77404  \n",
       "2       37.68163   5.25897  \n",
       "3       33.89237   4.73013  \n",
       "4       42.39711   5.91708  "
      ]
     },
     "execution_count": 4,
     "metadata": {},
     "output_type": "execute_result"
    }
   ],
   "source": [
    "densitydeath.head()"
   ]
  },
  {
   "cell_type": "code",
   "execution_count": 5,
   "metadata": {},
   "outputs": [
    {
     "data": {
      "text/html": [
       "<div>\n",
       "<style scoped>\n",
       "    .dataframe tbody tr th:only-of-type {\n",
       "        vertical-align: middle;\n",
       "    }\n",
       "\n",
       "    .dataframe tbody tr th {\n",
       "        vertical-align: top;\n",
       "    }\n",
       "\n",
       "    .dataframe thead th {\n",
       "        text-align: right;\n",
       "    }\n",
       "</style>\n",
       "<table border=\"1\" class=\"dataframe\">\n",
       "  <thead>\n",
       "    <tr style=\"text-align: right;\">\n",
       "      <th></th>\n",
       "      <th>Unnamed: 0</th>\n",
       "      <th>Density</th>\n",
       "      <th>Cause of Death</th>\n",
       "      <th>Deaths</th>\n",
       "      <th>Population</th>\n",
       "      <th>Rate per 100k</th>\n",
       "      <th>Percent</th>\n",
       "    </tr>\n",
       "  </thead>\n",
       "  <tbody>\n",
       "    <tr>\n",
       "      <th>0</th>\n",
       "      <td>0</td>\n",
       "      <td>Large Central Metro</td>\n",
       "      <td>Cancer</td>\n",
       "      <td>156766</td>\n",
       "      <td>99544525</td>\n",
       "      <td>157.48330</td>\n",
       "      <td>21.97889</td>\n",
       "    </tr>\n",
       "    <tr>\n",
       "      <th>1</th>\n",
       "      <td>1</td>\n",
       "      <td>Large Central Metro</td>\n",
       "      <td>Heart Disease</td>\n",
       "      <td>169570</td>\n",
       "      <td>99544525</td>\n",
       "      <td>170.34588</td>\n",
       "      <td>23.77404</td>\n",
       "    </tr>\n",
       "    <tr>\n",
       "      <th>2</th>\n",
       "      <td>2</td>\n",
       "      <td>Large Central Metro</td>\n",
       "      <td>Stroke</td>\n",
       "      <td>37510</td>\n",
       "      <td>99544525</td>\n",
       "      <td>37.68163</td>\n",
       "      <td>5.25897</td>\n",
       "    </tr>\n",
       "    <tr>\n",
       "      <th>3</th>\n",
       "      <td>3</td>\n",
       "      <td>Large Central Metro</td>\n",
       "      <td>Respiratory</td>\n",
       "      <td>33738</td>\n",
       "      <td>99544525</td>\n",
       "      <td>33.89237</td>\n",
       "      <td>4.73013</td>\n",
       "    </tr>\n",
       "    <tr>\n",
       "      <th>4</th>\n",
       "      <td>4</td>\n",
       "      <td>Large Central Metro</td>\n",
       "      <td>Accidents</td>\n",
       "      <td>42204</td>\n",
       "      <td>99544525</td>\n",
       "      <td>42.39711</td>\n",
       "      <td>5.91708</td>\n",
       "    </tr>\n",
       "  </tbody>\n",
       "</table>\n",
       "</div>"
      ],
      "text/plain": [
       "   Unnamed: 0              Density Cause of Death  Deaths  Population  \\\n",
       "0           0  Large Central Metro         Cancer  156766    99544525   \n",
       "1           1  Large Central Metro  Heart Disease  169570    99544525   \n",
       "2           2  Large Central Metro         Stroke   37510    99544525   \n",
       "3           3  Large Central Metro    Respiratory   33738    99544525   \n",
       "4           4  Large Central Metro      Accidents   42204    99544525   \n",
       "\n",
       "   Rate per 100k   Percent  \n",
       "0      157.48330  21.97889  \n",
       "1      170.34588  23.77404  \n",
       "2       37.68163   5.25897  \n",
       "3       33.89237   4.73013  \n",
       "4       42.39711   5.91708  "
      ]
     },
     "execution_count": 5,
     "metadata": {},
     "output_type": "execute_result"
    }
   ],
   "source": [
    "# take density death csv to sql/aws\n",
    "densitydeath.to_sql(name='density', if_exists='replace', con=conn, chunksize=500, index=False)\n",
    "\n",
    "remote_data = pd.read_sql(\"SELECT * FROM density\", conn)\n",
    "remote_data.head()"
   ]
  },
  {
   "cell_type": "code",
   "execution_count": null,
   "metadata": {},
   "outputs": [],
   "source": [
    "# take gender death csv to sql/aws\n",
    "genderdeath = pd.read_csv('Output/percentgenderdeath.csv')\n",
    "genderdeath.to_sql(name='gender', if_exists='replace', con=conn, index=False)"
   ]
  },
  {
   "cell_type": "code",
   "execution_count": 9,
   "metadata": {},
   "outputs": [],
   "source": [
    "# take svi life csv to sql/aws\n",
    "sviLife = pd.read_csv('Output/sviLife.csv')\n",
    "sviLife.to_sql(name='sviLife', if_exists='replace', con=conn, index=False)"
   ]
  },
  {
   "cell_type": "code",
   "execution_count": null,
   "metadata": {},
   "outputs": [],
   "source": []
  },
  {
   "cell_type": "code",
   "execution_count": 4,
   "metadata": {},
   "outputs": [],
   "source": []
  },
  {
   "cell_type": "code",
   "execution_count": 6,
   "metadata": {},
   "outputs": [],
   "source": [
    "# back-up tables\n",
    "sviLife2 = pd.read_csv('Output/sviLife.csv')\n",
    "sviLife2.to_sql(name='sviLife2', if_exists='replace', con=conn, index=False)\n",
    "genderdeath = pd.read_csv('Output/percentgenderdeath.csv')\n",
    "genderdeath.to_sql(name='gender2', if_exists='replace', con=conn, index=False)\n",
    "densitydeath = pd.read_csv('Output/densitydeath.csv')\n",
    "densitydeath.to_sql(name='density2', if_exists='replace', con=conn, chunksize=500, index=False)"
   ]
  },
  {
   "cell_type": "code",
   "execution_count": null,
   "metadata": {},
   "outputs": [],
   "source": []
  }
 ],
 "metadata": {
  "kernelspec": {
   "display_name": "Python 3",
   "language": "python",
   "name": "python3"
  },
  "language_info": {
   "codemirror_mode": {
    "name": "ipython",
    "version": 3
   },
   "file_extension": ".py",
   "mimetype": "text/x-python",
   "name": "python",
   "nbconvert_exporter": "python",
   "pygments_lexer": "ipython3",
   "version": "3.7.0"
  }
 },
 "nbformat": 4,
 "nbformat_minor": 2
}
